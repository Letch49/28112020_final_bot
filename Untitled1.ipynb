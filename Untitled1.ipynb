{
 "cells": [
  {
   "cell_type": "code",
   "execution_count": 3,
   "metadata": {
    "execution": {
     "iopub.execute_input": "2020-11-27T12:21:14.584456Z",
     "iopub.status.busy": "2020-11-27T12:21:14.584066Z",
     "iopub.status.idle": "2020-11-27T12:21:16.821633Z",
     "shell.execute_reply": "2020-11-27T12:21:16.820974Z",
     "shell.execute_reply.started": "2020-11-27T12:21:14.584416Z"
    }
   },
   "outputs": [],
   "source": [
    "from spech2text import speech_to_text\n",
    "\n",
    "filename = '/Users/semenkiselev/Downloads/track1.ogg'\n",
    "model_path = '/Users/semenkiselev/Documents/dev/hacks/vosk-api/python/example/model_rus'\n",
    "\n",
    "speech_to_text(filename, model_path)"
   ]
  },
  {
   "cell_type": "code",
   "execution_count": null,
   "metadata": {},
   "outputs": [],
   "source": []
  }
 ],
 "metadata": {
  "kernelspec": {
   "display_name": "Python (myenv)",
   "language": "python",
   "name": "myenv"
  },
  "language_info": {
   "codemirror_mode": {
    "name": "ipython",
    "version": 3
   },
   "file_extension": ".py",
   "mimetype": "text/x-python",
   "name": "python",
   "nbconvert_exporter": "python",
   "pygments_lexer": "ipython3",
   "version": "3.8.5"
  }
 },
 "nbformat": 4,
 "nbformat_minor": 4
}
