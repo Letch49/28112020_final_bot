{
 "cells": [
  {
   "cell_type": "code",
   "execution_count": 1,
   "metadata": {
    "execution": {
     "iopub.execute_input": "2020-11-28T22:11:08.997295Z",
     "iopub.status.busy": "2020-11-28T22:11:08.997010Z",
     "iopub.status.idle": "2020-11-28T22:11:10.363624Z",
     "shell.execute_reply": "2020-11-28T22:11:10.362998Z",
     "shell.execute_reply.started": "2020-11-28T22:11:08.997225Z"
    }
   },
   "outputs": [],
   "source": [
    "from spech2text import speech_to_text"
   ]
  },
  {
   "cell_type": "code",
   "execution_count": 2,
   "metadata": {
    "execution": {
     "iopub.execute_input": "2020-11-28T22:11:26.352565Z",
     "iopub.status.busy": "2020-11-28T22:11:26.352327Z",
     "iopub.status.idle": "2020-11-28T22:11:26.355873Z",
     "shell.execute_reply": "2020-11-28T22:11:26.354885Z",
     "shell.execute_reply.started": "2020-11-28T22:11:26.352538Z"
    }
   },
   "outputs": [],
   "source": [
    "filename = '/Users/semenkiselev/Downloads/Моя запись.wav'\n",
    "model_path = '/Users/semenkiselev/Documents/dev/hacks/vosk-api/python/example/model_rus'"
   ]
  },
  {
   "cell_type": "code",
   "execution_count": 3,
   "metadata": {
    "execution": {
     "iopub.execute_input": "2020-11-28T22:11:27.868997Z",
     "iopub.status.busy": "2020-11-28T22:11:27.868738Z",
     "iopub.status.idle": "2020-11-28T22:11:33.835737Z",
     "shell.execute_reply": "2020-11-28T22:11:33.835180Z",
     "shell.execute_reply.started": "2020-11-28T22:11:27.868971Z"
    }
   },
   "outputs": [
    {
     "data": {
      "text/plain": [
       "'ещё что у нас в комнате в трёшки живёт. мой однокурсник один там с которым я даже не общаешься с он и что типа такое на в типа шкаф забит вещами и моим я тебе говорю блин. надо наверное тепла там полку чтобы он мог вкладывайте хотя когда-то и типа короче семь утра типа. пошёл переложить вещи. с полки типа он спал. то что я этом шумел прочь'"
      ]
     },
     "execution_count": 3,
     "metadata": {},
     "output_type": "execute_result"
    }
   ],
   "source": [
    "speech_to_text(filename, model_path)"
   ]
  },
  {
   "cell_type": "code",
   "execution_count": null,
   "metadata": {},
   "outputs": [],
   "source": []
  }
 ],
 "metadata": {
  "kernelspec": {
   "display_name": "Python (myenv)",
   "language": "python",
   "name": "myenv"
  },
  "language_info": {
   "codemirror_mode": {
    "name": "ipython",
    "version": 3
   },
   "file_extension": ".py",
   "mimetype": "text/x-python",
   "name": "python",
   "nbconvert_exporter": "python",
   "pygments_lexer": "ipython3",
   "version": "3.8.5"
  }
 },
 "nbformat": 4,
 "nbformat_minor": 4
}
